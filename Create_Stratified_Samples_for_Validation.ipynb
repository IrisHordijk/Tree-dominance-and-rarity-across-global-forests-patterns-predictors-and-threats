{
 "cells": [
  {
   "cell_type": "code",
   "execution_count": 14,
   "metadata": {},
   "outputs": [],
   "source": [
    "# Import the modules of interest\n",
    "import pandas as pd\n"
   ]
  },
  {
   "cell_type": "code",
   "execution_count": 16,
   "metadata": {},
   "outputs": [
    {
     "name": "stdout",
     "output_type": "stream",
     "text": [
      "CPU times: user 2.97 s, sys: 150 ms, total: 3.12 s\n",
      "Wall time: 3.18 s\n"
     ]
    }
   ],
   "source": [
    "%%time\n",
    "# Import the raw CSV being bootstrapped\n",
    "rawPointCollection = pd.read_csv('data/20200708_RegressionMatrix_DominanceAndRarity.csv',float_precision='round_trip')\n"
   ]
  },
  {
   "cell_type": "code",
   "execution_count": 17,
   "metadata": {},
   "outputs": [
    {
     "name": "stdout",
     "output_type": "stream",
     "text": [
      "Index(['system:index', 'CHELSA_Annual_Mean_Temperature',\n",
      "       'CHELSA_Annual_Precipitation', 'CHELSA_Isothermality',\n",
      "       'CHELSA_Max_Temperature_of_Warmest_Month',\n",
      "       'CHELSA_Min_Temperature_of_Coldest_Month',\n",
      "       'CHELSA_Precipitation_Seasonality',\n",
      "       'CHELSA_Precipitation_of_Driest_Month',\n",
      "       'CHELSA_Precipitation_of_Wettest_Month',\n",
      "       'CHELSA_Temperature_Annual_Range', 'CHELSA_Temperature_Seasonality',\n",
      "       'ConsensusLandCover_Human_Development_Percentage',\n",
      "       'CrowtherLab_Tree_Density', 'Dominance', 'Dominance_scaled',\n",
      "       'EarthEnvTexture_Dissimilarity_EVI', 'EarthEnvTexture_Shannon_Index',\n",
      "       'EarthEnvTopoMed_Elevation', 'EarthEnvTopoMed_Slope',\n",
      "       'GFAD_FractionOfRegrowthForest_downsampled50km',\n",
      "       'GFAD_regrowthForestAge_Mean_downsampled50km',\n",
      "       'GPWv4_Population_Density', 'GlobBiomass_AboveGroundBiomass',\n",
      "       'GlobBiomass_GrowingStockVolume', 'MODIS_EVI', 'MODIS_LAI',\n",
      "       'MODIS_NDVI', 'MODIS_Nadir_Reflectance_Band1',\n",
      "       'MODIS_Nadir_Reflectance_Band2', 'MODIS_Nadir_Reflectance_Band3',\n",
      "       'MODIS_Nadir_Reflectance_Band4', 'MODIS_Nadir_Reflectance_Band5',\n",
      "       'MODIS_Nadir_Reflectance_Band6', 'MODIS_Nadir_Reflectance_Band7',\n",
      "       'NASA_ForestCanopyHeight', 'Pixel_Lat', 'Pixel_Long', 'Rarity',\n",
      "       'Rarity_scaled', 'Resolve_Biome', 'SG_CEC_015cm',\n",
      "       'SG_Clay_Content_015cm', 'SG_SOC_Density_015cm',\n",
      "       'SG_Sand_Content_015cm', 'SG_Saturated_H2O_Content_015cm',\n",
      "       'SG_Silt_Content_015cm', 'SG_Soil_pH_H2O_015cm', '.geo'],\n",
      "      dtype='object')\n",
      "(152000, 48)\n"
     ]
    }
   ],
   "source": [
    "# Print basic information on the csv\n",
    "print(rawPointCollection.columns)\n",
    "print(rawPointCollection.shape)\n"
   ]
  },
  {
   "cell_type": "code",
   "execution_count": 18,
   "metadata": {},
   "outputs": [
    {
     "name": "stdout",
     "output_type": "stream",
     "text": [
      "Index(['CHELSA_Annual_Mean_Temperature', 'CHELSA_Annual_Precipitation',\n",
      "       'CHELSA_Isothermality', 'CHELSA_Max_Temperature_of_Warmest_Month',\n",
      "       'CHELSA_Min_Temperature_of_Coldest_Month',\n",
      "       'CHELSA_Precipitation_Seasonality',\n",
      "       'CHELSA_Precipitation_of_Driest_Month',\n",
      "       'CHELSA_Precipitation_of_Wettest_Month',\n",
      "       'CHELSA_Temperature_Annual_Range', 'CHELSA_Temperature_Seasonality',\n",
      "       'ConsensusLandCover_Human_Development_Percentage',\n",
      "       'CrowtherLab_Tree_Density', 'Dominance', 'Dominance_scaled',\n",
      "       'EarthEnvTexture_Dissimilarity_EVI', 'EarthEnvTexture_Shannon_Index',\n",
      "       'EarthEnvTopoMed_Elevation', 'EarthEnvTopoMed_Slope',\n",
      "       'GFAD_FractionOfRegrowthForest_downsampled50km',\n",
      "       'GFAD_regrowthForestAge_Mean_downsampled50km',\n",
      "       'GPWv4_Population_Density', 'GlobBiomass_AboveGroundBiomass',\n",
      "       'GlobBiomass_GrowingStockVolume', 'MODIS_EVI', 'MODIS_LAI',\n",
      "       'MODIS_NDVI', 'MODIS_Nadir_Reflectance_Band1',\n",
      "       'MODIS_Nadir_Reflectance_Band2', 'MODIS_Nadir_Reflectance_Band3',\n",
      "       'MODIS_Nadir_Reflectance_Band4', 'MODIS_Nadir_Reflectance_Band5',\n",
      "       'MODIS_Nadir_Reflectance_Band6', 'MODIS_Nadir_Reflectance_Band7',\n",
      "       'NASA_ForestCanopyHeight', 'Pixel_Lat', 'Pixel_Long', 'Rarity',\n",
      "       'Rarity_scaled', 'Resolve_Biome', 'SG_CEC_015cm',\n",
      "       'SG_Clay_Content_015cm', 'SG_SOC_Density_015cm',\n",
      "       'SG_Sand_Content_015cm', 'SG_Saturated_H2O_Content_015cm',\n",
      "       'SG_Silt_Content_015cm', 'SG_Soil_pH_H2O_015cm', 'geo'],\n",
      "      dtype='object')\n",
      "(152000, 47)\n",
      "CHELSA_Annual_Mean_Temperature                     float64\n",
      "CHELSA_Annual_Precipitation                        float64\n",
      "CHELSA_Isothermality                               float64\n",
      "CHELSA_Max_Temperature_of_Warmest_Month            float64\n",
      "CHELSA_Min_Temperature_of_Coldest_Month            float64\n",
      "CHELSA_Precipitation_Seasonality                   float64\n",
      "CHELSA_Precipitation_of_Driest_Month               float64\n",
      "CHELSA_Precipitation_of_Wettest_Month              float64\n",
      "CHELSA_Temperature_Annual_Range                    float64\n",
      "CHELSA_Temperature_Seasonality                     float64\n",
      "ConsensusLandCover_Human_Development_Percentage    float64\n",
      "CrowtherLab_Tree_Density                           float64\n",
      "Dominance                                          float64\n",
      "Dominance_scaled                                   float64\n",
      "EarthEnvTexture_Dissimilarity_EVI                  float64\n",
      "EarthEnvTexture_Shannon_Index                      float64\n",
      "EarthEnvTopoMed_Elevation                          float64\n",
      "EarthEnvTopoMed_Slope                              float64\n",
      "GFAD_FractionOfRegrowthForest_downsampled50km      float64\n",
      "GFAD_regrowthForestAge_Mean_downsampled50km        float64\n",
      "GPWv4_Population_Density                           float64\n",
      "GlobBiomass_AboveGroundBiomass                     float64\n",
      "GlobBiomass_GrowingStockVolume                     float64\n",
      "MODIS_EVI                                          float64\n",
      "MODIS_LAI                                          float64\n",
      "MODIS_NDVI                                         float64\n",
      "MODIS_Nadir_Reflectance_Band1                      float64\n",
      "MODIS_Nadir_Reflectance_Band2                      float64\n",
      "MODIS_Nadir_Reflectance_Band3                      float64\n",
      "MODIS_Nadir_Reflectance_Band4                      float64\n",
      "MODIS_Nadir_Reflectance_Band5                      float64\n",
      "MODIS_Nadir_Reflectance_Band6                      float64\n",
      "MODIS_Nadir_Reflectance_Band7                      float64\n",
      "NASA_ForestCanopyHeight                            float64\n",
      "Pixel_Lat                                          float64\n",
      "Pixel_Long                                         float64\n",
      "Rarity                                             float64\n",
      "Rarity_scaled                                      float64\n",
      "Resolve_Biome                                      float64\n",
      "SG_CEC_015cm                                       float64\n",
      "SG_Clay_Content_015cm                              float64\n",
      "SG_SOC_Density_015cm                               float64\n",
      "SG_Sand_Content_015cm                              float64\n",
      "SG_Saturated_H2O_Content_015cm                     float64\n",
      "SG_Silt_Content_015cm                              float64\n",
      "SG_Soil_pH_H2O_015cm                               float64\n",
      "geo                                                 object\n",
      "dtype: object\n",
      "CPU times: user 127 ms, sys: 73.5 ms, total: 201 ms\n",
      "Wall time: 207 ms\n"
     ]
    }
   ],
   "source": [
    "%%time\n",
    "# Remove the \"system:index\" and rename the \".geo\" column to \"geo\"\n",
    "preppedCollection = rawPointCollection.drop(['system:index'], axis=1).rename(index=str, columns={'.geo': 'geo'})\n",
    "print(preppedCollection.columns)\n",
    "print(preppedCollection.shape)\n",
    "print(preppedCollection.dtypes)"
   ]
  },
  {
   "cell_type": "code",
   "execution_count": 19,
   "metadata": {},
   "outputs": [],
   "source": [
    "# Generate the seeds \n",
    "seedsToUse = list(range(1, 11))\n",
    "# print(seedsToUse)\n"
   ]
  },
  {
   "cell_type": "code",
   "execution_count": 20,
   "metadata": {},
   "outputs": [],
   "source": [
    "# Input the header text that will name each dataset\n",
    "fileNameHeader = 'DominanceAndRarity_SampledCollForValidation_'\n"
   ]
  },
  {
   "cell_type": "code",
   "execution_count": 21,
   "metadata": {},
   "outputs": [
    {
     "name": "stdout",
     "output_type": "stream",
     "text": [
      "/Users/Thomas/Projects/DominanceRarity/data/DominanceAndRarity_SampledDataForValidation/DominanceAndRarity_SampledCollForValidation_001.csv\n",
      "/Users/Thomas/Projects/DominanceRarity/data/DominanceAndRarity_SampledDataForValidation/DominanceAndRarity_SampledCollForValidation_002.csv\n",
      "/Users/Thomas/Projects/DominanceRarity/data/DominanceAndRarity_SampledDataForValidation/DominanceAndRarity_SampledCollForValidation_003.csv\n",
      "/Users/Thomas/Projects/DominanceRarity/data/DominanceAndRarity_SampledDataForValidation/DominanceAndRarity_SampledCollForValidation_004.csv\n",
      "/Users/Thomas/Projects/DominanceRarity/data/DominanceAndRarity_SampledDataForValidation/DominanceAndRarity_SampledCollForValidation_005.csv\n",
      "/Users/Thomas/Projects/DominanceRarity/data/DominanceAndRarity_SampledDataForValidation/DominanceAndRarity_SampledCollForValidation_006.csv\n",
      "/Users/Thomas/Projects/DominanceRarity/data/DominanceAndRarity_SampledDataForValidation/DominanceAndRarity_SampledCollForValidation_007.csv\n",
      "/Users/Thomas/Projects/DominanceRarity/data/DominanceAndRarity_SampledDataForValidation/DominanceAndRarity_SampledCollForValidation_008.csv\n",
      "/Users/Thomas/Projects/DominanceRarity/data/DominanceAndRarity_SampledDataForValidation/DominanceAndRarity_SampledCollForValidation_009.csv\n",
      "/Users/Thomas/Projects/DominanceRarity/data/DominanceAndRarity_SampledDataForValidation/DominanceAndRarity_SampledCollForValidation_010.csv\n",
      "CPU times: user 7.13 s, sys: 475 ms, total: 7.61 s\n",
      "Wall time: 7.84 s\n"
     ]
    }
   ],
   "source": [
    "%%time\n",
    "# Run a for loop to create multiple bootstrap iterations\n",
    "for n in seedsToUse:\n",
    "    # Perform the subsetting\n",
    "    stratSample = preppedCollection.groupby('Resolve_Biome', group_keys=False).apply(lambda x: x.sample(n=min(len(x),1000), replace=False, random_state=n))\n",
    "#     print(stratSample.shape)\n",
    "#     print(stratSample.groupby('WWF_Biome').count())\n",
    "    \n",
    "    # Format the title of the CSV and export it toa holding location\n",
    "    titleOfCSV = fileNameHeader+str(n).zfill(3)\n",
    "    holdingFolder = '/Users/Thomas/Projects/DominanceRarity/data/DominanceAndRarity_SampledDataForValidation'\n",
    "    print(holdingFolder+'/'+titleOfCSV+'.csv')\n",
    "    stratSample.to_csv(holdingFolder+'/'+titleOfCSV+'.csv',index=False)\n",
    "    "
   ]
  },
  {
   "cell_type": "code",
   "execution_count": null,
   "metadata": {},
   "outputs": [],
   "source": []
  }
 ],
 "metadata": {
  "kernelspec": {
   "display_name": "Python 3",
   "language": "python",
   "name": "python3"
  },
  "language_info": {
   "codemirror_mode": {
    "name": "ipython",
    "version": 3
   },
   "file_extension": ".py",
   "mimetype": "text/x-python",
   "name": "python",
   "nbconvert_exporter": "python",
   "pygments_lexer": "ipython3",
   "version": "3.7.7"
  }
 },
 "nbformat": 4,
 "nbformat_minor": 4
}
